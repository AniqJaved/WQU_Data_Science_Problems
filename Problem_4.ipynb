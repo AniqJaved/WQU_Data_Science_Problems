{
 "cells": [
  {
   "cell_type": "code",
   "execution_count": 4,
   "metadata": {
    "init_cell": true
   },
   "outputs": [],
   "source": [
    "%logstop\n",
    "%logstart -rtq ~/.logs/pw.py append\n",
    "import seaborn as sns\n",
    "sns.set()"
   ]
  },
  {
   "cell_type": "code",
   "execution_count": 5,
   "metadata": {},
   "outputs": [],
   "source": [
    "from static_grader import grader"
   ]
  },
  {
   "cell_type": "markdown",
   "metadata": {},
   "source": [
    "# PW Miniproject\n",
    "## Introduction\n",
    "\n",
    "The objective of this miniproject is to exercise your ability to use basic Python data structures, define functions, and control program flow. We will be using these concepts to perform some fundamental data wrangling tasks such as joining data sets together, splitting data into groups, and aggregating data into summary statistics.\n",
    "**Please do not use `pandas` or `numpy` to answer these questions.**\n",
    "\n",
    "We will be working with medical data from the British NHS on prescription drugs. Since this is real data, it contains many ambiguities that we will need to confront in our analysis. This is commonplace in data science, and is one of the lessons you will learn in this miniproject."
   ]
  },
  {
   "cell_type": "markdown",
   "metadata": {},
   "source": [
    "## Downloading the data\n",
    "\n",
    "We first need to download the data we'll be using from Amazon S3:"
   ]
  },
  {
   "cell_type": "code",
   "execution_count": 9,
   "metadata": {},
   "outputs": [
    {
     "name": "stderr",
     "output_type": "stream",
     "text": [
      "mkdir: cannot create directory ‘pw-data’: File exists\n",
      "File ‘./pw-data/201701scripts_sample.json.gz’ already there; not retrieving.\n",
      "\n",
      "File ‘./pw-data/practices.json.gz’ already there; not retrieving.\n",
      "\n"
     ]
    }
   ],
   "source": [
    "%%bash\n",
    "mkdir pw-data\n",
    "wget http://dataincubator-wqu.s3.amazonaws.com/pwdata/201701scripts_sample.json.gz -nc -P ./pw-data\n",
    "wget http://dataincubator-wqu.s3.amazonaws.com/pwdata/practices.json.gz -nc -P ./pw-data"
   ]
  },
  {
   "cell_type": "markdown",
   "metadata": {},
   "source": [
    "## Loading the data\n",
    "\n",
    "The first step of the project is to read in the data. We will discuss reading and writing various kinds of files later in the course, but the code below should get you started."
   ]
  },
  {
   "cell_type": "code",
   "execution_count": 6,
   "metadata": {},
   "outputs": [],
   "source": [
    "import gzip\n",
    "import simplejson as json"
   ]
  },
  {
   "cell_type": "code",
   "execution_count": 7,
   "metadata": {},
   "outputs": [],
   "source": [
    "with gzip.open('./pw-data/201701scripts_sample.json.gz', 'rb') as f:\n",
    "    scripts = json.load(f)\n",
    "\n",
    "with gzip.open('./pw-data/practices.json.gz', 'rb') as f:\n",
    "    practices = json.load(f)"
   ]
  },
  {
   "cell_type": "markdown",
   "metadata": {},
   "source": [
    "This data set comes from Britain's National Health Service. The `scripts` variable is a list of prescriptions issued by NHS doctors. Each prescription is represented by a dictionary with various data fields: `'practice'`, `'bnf_code'`, `'bnf_name'`, `'quantity'`, `'items'`, `'nic'`, and `'act_cost'`. "
   ]
  },
  {
   "cell_type": "code",
   "execution_count": 8,
   "metadata": {},
   "outputs": [
    {
     "data": {
      "text/plain": [
       "[{'bnf_code': '0101010G0AAABAB',\n",
       "  'items': 2,\n",
       "  'practice': 'N81013',\n",
       "  'bnf_name': 'Co-Magaldrox_Susp 195mg/220mg/5ml S/F',\n",
       "  'nic': 5.98,\n",
       "  'act_cost': 5.56,\n",
       "  'quantity': 1000},\n",
       " {'bnf_code': '0101021B0AAAHAH',\n",
       "  'items': 1,\n",
       "  'practice': 'N81013',\n",
       "  'bnf_name': 'Alginate_Raft-Forming Oral Susp S/F',\n",
       "  'nic': 1.95,\n",
       "  'act_cost': 1.82,\n",
       "  'quantity': 500},\n",
       " {'bnf_code': '0101021B0AAALAL',\n",
       "  'items': 12,\n",
       "  'practice': 'N81013',\n",
       "  'bnf_name': 'Sod Algin/Pot Bicarb_Susp S/F',\n",
       "  'nic': 64.51,\n",
       "  'act_cost': 59.95,\n",
       "  'quantity': 6300},\n",
       " {'bnf_code': '0101021B0AAAPAP',\n",
       "  'items': 3,\n",
       "  'practice': 'N81013',\n",
       "  'bnf_name': 'Sod Alginate/Pot Bicarb_Tab Chble 500mg',\n",
       "  'nic': 9.21,\n",
       "  'act_cost': 8.55,\n",
       "  'quantity': 180},\n",
       " {'bnf_code': '0101021B0BEADAJ',\n",
       "  'items': 6,\n",
       "  'practice': 'N81013',\n",
       "  'bnf_name': 'Gaviscon Infant_Sach 2g (Dual Pack) S/F',\n",
       "  'nic': 28.92,\n",
       "  'act_cost': 26.84,\n",
       "  'quantity': 90},\n",
       " {'bnf_code': '0101021B0BEAIAL',\n",
       "  'items': 15,\n",
       "  'practice': 'N81013',\n",
       "  'bnf_name': 'Gaviscon Advance_Liq (Aniseed) (Reckitt)',\n",
       "  'nic': 82.62,\n",
       "  'act_cost': 76.67,\n",
       "  'quantity': 7800},\n",
       " {'bnf_code': '0101021B0BEAQAP',\n",
       "  'items': 5,\n",
       "  'practice': 'N81013',\n",
       "  'bnf_name': 'Gaviscon Advance_Tab Chble Mint(Reckitt)',\n",
       "  'nic': 13.47,\n",
       "  'act_cost': 12.93,\n",
       "  'quantity': 116},\n",
       " {'bnf_code': '0101021B0BEBEAL',\n",
       "  'items': 10,\n",
       "  'practice': 'N81013',\n",
       "  'bnf_name': 'Gaviscon Advance_Liq (Peppermint) S/F',\n",
       "  'nic': 64.0,\n",
       "  'act_cost': 59.45,\n",
       "  'quantity': 6250},\n",
       " {'bnf_code': '0101021B0BIABAH',\n",
       "  'items': 2,\n",
       "  'practice': 'N81013',\n",
       "  'bnf_name': 'Peptac_Liq (Peppermint) S/F',\n",
       "  'nic': 3.9,\n",
       "  'act_cost': 3.64,\n",
       "  'quantity': 1000},\n",
       " {'bnf_code': '0102000A0AAAAAA',\n",
       "  'items': 1,\n",
       "  'practice': 'N81013',\n",
       "  'bnf_name': 'Alverine Cit_Cap 60mg',\n",
       "  'nic': 19.48,\n",
       "  'act_cost': 18.05,\n",
       "  'quantity': 100},\n",
       " {'bnf_code': '0102000N0AAAAAA',\n",
       "  'items': 2,\n",
       "  'practice': 'N81013',\n",
       "  'bnf_name': 'Hyoscine Butylbrom_Inj 20mg/ml 1ml Amp',\n",
       "  'nic': 37.67,\n",
       "  'act_cost': 35.1,\n",
       "  'quantity': 129},\n",
       " {'bnf_code': '0102000N0AAABAB',\n",
       "  'items': 18,\n",
       "  'practice': 'N81013',\n",
       "  'bnf_name': 'Hyoscine Butylbrom_Tab 10mg',\n",
       "  'nic': 112.5,\n",
       "  'act_cost': 104.66,\n",
       "  'quantity': 2100},\n",
       " {'bnf_code': '0102000P0AAABAB',\n",
       "  'items': 16,\n",
       "  'practice': 'N81013',\n",
       "  'bnf_name': 'Mebeverine HCl_Tab 135mg',\n",
       "  'nic': 66.26,\n",
       "  'act_cost': 62.63,\n",
       "  'quantity': 1270},\n",
       " {'bnf_code': '0102000P0AAADAD',\n",
       "  'items': 33,\n",
       "  'practice': 'N81013',\n",
       "  'bnf_name': 'Mebeverine HCl_Cap 200mg M/R',\n",
       "  'nic': 126.6,\n",
       "  'act_cost': 120.41,\n",
       "  'quantity': 1098},\n",
       " {'bnf_code': '0102000T0AAAAAA',\n",
       "  'items': 4,\n",
       "  'practice': 'N81013',\n",
       "  'bnf_name': 'Peppermint Oil_Cap E/C 0.2ml',\n",
       "  'nic': 25.81,\n",
       "  'act_cost': 24.04,\n",
       "  'quantity': 308},\n",
       " {'bnf_code': '0102000T0AAAFAF',\n",
       "  'items': 2,\n",
       "  'practice': 'N81013',\n",
       "  'bnf_name': 'Peppermint Oil_Cap E/C 0.2ml M/R',\n",
       "  'nic': 20.46,\n",
       "  'act_cost': 19.17,\n",
       "  'quantity': 168},\n",
       " {'bnf_code': '0102000T0BBAAAF',\n",
       "  'items': 3,\n",
       "  'practice': 'N81013',\n",
       "  'bnf_name': 'Colpermin_Cap E/C 0.2ml M/R',\n",
       "  'nic': 34.59,\n",
       "  'act_cost': 32.16,\n",
       "  'quantity': 284},\n",
       " {'bnf_code': '0102000X0AAAAAA',\n",
       "  'items': 2,\n",
       "  'practice': 'N81013',\n",
       "  'bnf_name': 'Ispag/Mebeverine_Gran Eff 3.5g/135mg S/F',\n",
       "  'nic': 35.26,\n",
       "  'act_cost': 32.76,\n",
       "  'quantity': 76},\n",
       " {'bnf_code': '0102000X0BCAAAA',\n",
       "  'items': 4,\n",
       "  'practice': 'N81013',\n",
       "  'bnf_name': 'Fybogel Mebeverine_Eff Gran Sach S/F',\n",
       "  'nic': 69.6,\n",
       "  'act_cost': 64.49,\n",
       "  'quantity': 150},\n",
       " {'bnf_code': '0103010T0AAAAAA',\n",
       "  'items': 40,\n",
       "  'practice': 'N81013',\n",
       "  'bnf_name': 'Ranitidine HCl_Tab 150mg',\n",
       "  'nic': 39.03,\n",
       "  'act_cost': 39.43,\n",
       "  'quantity': 1886},\n",
       " {'bnf_code': '0103010T0AAACAC',\n",
       "  'items': 13,\n",
       "  'practice': 'N81013',\n",
       "  'bnf_name': 'Ranitidine HCl_Tab 300mg',\n",
       "  'nic': 18.39,\n",
       "  'act_cost': 17.79,\n",
       "  'quantity': 434},\n",
       " {'bnf_code': '0103010T0AAAEAE',\n",
       "  'items': 5,\n",
       "  'practice': 'N81013',\n",
       "  'bnf_name': 'Ranitidine HCl_Oral Soln 75mg/5ml S/F',\n",
       "  'nic': 14.62,\n",
       "  'act_cost': 14.0,\n",
       "  'quantity': 700},\n",
       " {'bnf_code': '0103050E0AAAAAA',\n",
       "  'items': 6,\n",
       "  'practice': 'N81013',\n",
       "  'bnf_name': 'Esomeprazole_Tab E/C 20mg',\n",
       "  'nic': 29.15,\n",
       "  'act_cost': 27.07,\n",
       "  'quantity': 308},\n",
       " {'bnf_code': '0103050E0AAABAB',\n",
       "  'items': 1,\n",
       "  'practice': 'N81013',\n",
       "  'bnf_name': 'Esomeprazole_Tab E/C 40mg',\n",
       "  'nic': 3.31,\n",
       "  'act_cost': 3.08,\n",
       "  'quantity': 28},\n",
       " {'bnf_code': '0103050E0BCAAAF',\n",
       "  'items': 8,\n",
       "  'practice': 'N81013',\n",
       "  'bnf_name': 'Emozul_Cap E/C 20mg',\n",
       "  'nic': 40.8,\n",
       "  'act_cost': 37.88,\n",
       "  'quantity': 336},\n",
       " {'bnf_code': '0103050E0BCABAG',\n",
       "  'items': 4,\n",
       "  'practice': 'N81013',\n",
       "  'bnf_name': 'Emozul_Cap E/C 40mg',\n",
       "  'nic': 23.76,\n",
       "  'act_cost': 22.04,\n",
       "  'quantity': 168},\n",
       " {'bnf_code': '0103050L0AAAAAA',\n",
       "  'items': 303,\n",
       "  'practice': 'N81013',\n",
       "  'bnf_name': 'Lansoprazole_Cap 30mg (E/C Gran)',\n",
       "  'nic': 370.85,\n",
       "  'act_cost': 351.19,\n",
       "  'quantity': 9352},\n",
       " {'bnf_code': '0103050L0AAABAB',\n",
       "  'items': 109,\n",
       "  'practice': 'N81013',\n",
       "  'bnf_name': 'Lansoprazole_Cap 15mg (E/C Gran)',\n",
       "  'nic': 105.42,\n",
       "  'act_cost': 99.93,\n",
       "  'quantity': 3514},\n",
       " {'bnf_code': '0103050L0AAAGAG',\n",
       "  'items': 3,\n",
       "  'practice': 'N81013',\n",
       "  'bnf_name': 'Lansoprazole_Orodisper Tab 15mg',\n",
       "  'nic': 6.3,\n",
       "  'act_cost': 5.87,\n",
       "  'quantity': 84},\n",
       " {'bnf_code': '0103050L0AAAHAH',\n",
       "  'items': 7,\n",
       "  'practice': 'N81013',\n",
       "  'bnf_name': 'Lansoprazole_Orodisper Tab 30mg',\n",
       "  'nic': 30.78,\n",
       "  'act_cost': 28.58,\n",
       "  'quantity': 252},\n",
       " {'bnf_code': '0103050L0BBAEAH',\n",
       "  'items': 1,\n",
       "  'practice': 'N81013',\n",
       "  'bnf_name': 'Zoton_FasTab Tab 30mg',\n",
       "  'nic': 5.5,\n",
       "  'act_cost': 5.1,\n",
       "  'quantity': 28},\n",
       " {'bnf_code': '0103050P0AAAAAA',\n",
       "  'items': 344,\n",
       "  'practice': 'N81013',\n",
       "  'bnf_name': 'Omeprazole_Cap E/C 20mg',\n",
       "  'nic': 382.54,\n",
       "  'act_cost': 364.58,\n",
       "  'quantity': 11764},\n",
       " {'bnf_code': '0103050P0AAAEAE',\n",
       "  'items': 10,\n",
       "  'practice': 'N81013',\n",
       "  'bnf_name': 'Omeprazole_Cap E/C 40mg',\n",
       "  'nic': 30.0,\n",
       "  'act_cost': 27.9,\n",
       "  'quantity': 280},\n",
       " {'bnf_code': '0103050P0AAAFAF',\n",
       "  'items': 14,\n",
       "  'practice': 'N81013',\n",
       "  'bnf_name': 'Omeprazole_Cap E/C 10mg',\n",
       "  'nic': 17.8,\n",
       "  'act_cost': 16.65,\n",
       "  'quantity': 560},\n",
       " {'bnf_code': '0103050P0AABDBD',\n",
       "  'items': 2,\n",
       "  'practice': 'N81013',\n",
       "  'bnf_name': 'Omeprazole_Tab E/C 20mg',\n",
       "  'nic': 24.04,\n",
       "  'act_cost': 22.28,\n",
       "  'quantity': 112},\n",
       " {'bnf_code': '0103050P0AABLBL',\n",
       "  'items': 1,\n",
       "  'practice': 'N81013',\n",
       "  'bnf_name': 'Omeprazole_Oral Susp 10mg/5ml',\n",
       "  'nic': 73.13,\n",
       "  'act_cost': 67.71,\n",
       "  'quantity': 100},\n",
       " {'bnf_code': '0103050P0BBAAAA',\n",
       "  'items': 2,\n",
       "  'practice': 'N81013',\n",
       "  'bnf_name': 'Losec_Cap E/C 20mg',\n",
       "  'nic': 41.76,\n",
       "  'act_cost': 38.69,\n",
       "  'quantity': 84},\n",
       " {'bnf_code': '0103050R0AAAAAA',\n",
       "  'items': 14,\n",
       "  'practice': 'N81013',\n",
       "  'bnf_name': 'Pantoprazole_Tab E/C 40mg',\n",
       "  'nic': 22.4,\n",
       "  'act_cost': 20.93,\n",
       "  'quantity': 560},\n",
       " {'bnf_code': '0103050R0AAABAB',\n",
       "  'items': 6,\n",
       "  'practice': 'N81013',\n",
       "  'bnf_name': 'Pantoprazole_Tab E/C 20mg',\n",
       "  'nic': 9.5,\n",
       "  'act_cost': 8.86,\n",
       "  'quantity': 280},\n",
       " {'bnf_code': '0104020L0AAAAAA',\n",
       "  'items': 13,\n",
       "  'practice': 'N81013',\n",
       "  'bnf_name': 'Loperamide HCl_Cap 2mg',\n",
       "  'nic': 43.33,\n",
       "  'act_cost': 40.58,\n",
       "  'quantity': 1354},\n",
       " {'bnf_code': '0104020L0AAABAB',\n",
       "  'items': 2,\n",
       "  'practice': 'N81013',\n",
       "  'bnf_name': 'Loperamide HCl_Oral Soln 1mg/5ml S/F',\n",
       "  'nic': 7.02,\n",
       "  'act_cost': 6.53,\n",
       "  'quantity': 600},\n",
       " {'bnf_code': '0104020L0AAADAD',\n",
       "  'items': 3,\n",
       "  'practice': 'N81013',\n",
       "  'bnf_name': 'Loperamide HCl_Tab 2mg',\n",
       "  'nic': 17.2,\n",
       "  'act_cost': 15.95,\n",
       "  'quantity': 240},\n",
       " {'bnf_code': '0105010B0AAAIAI',\n",
       "  'items': 2,\n",
       "  'practice': 'N81013',\n",
       "  'bnf_name': 'Mesalazine_Tab 500mg M/R',\n",
       "  'nic': 68.86,\n",
       "  'act_cost': 63.98,\n",
       "  'quantity': 224},\n",
       " {'bnf_code': '0105010B0AAAJAJ',\n",
       "  'items': 1,\n",
       "  'practice': 'N81013',\n",
       "  'bnf_name': 'Mesalazine_Suppos 1g',\n",
       "  'nic': 40.01,\n",
       "  'act_cost': 37.05,\n",
       "  'quantity': 28},\n",
       " {'bnf_code': '0105010B0AAATAT',\n",
       "  'items': 1,\n",
       "  'practice': 'N81013',\n",
       "  'bnf_name': 'Mesalazine_Gran Sach 2g M/R S/F',\n",
       "  'nic': 73.78,\n",
       "  'act_cost': 68.31,\n",
       "  'quantity': 60},\n",
       " {'bnf_code': '0105010B0BCACAI',\n",
       "  'items': 4,\n",
       "  'practice': 'N81013',\n",
       "  'bnf_name': 'Pentasa SR_Tab 500mg',\n",
       "  'nic': 172.14,\n",
       "  'act_cost': 159.8,\n",
       "  'quantity': 560},\n",
       " {'bnf_code': '0105010B0BCADAJ',\n",
       "  'items': 1,\n",
       "  'practice': 'N81013',\n",
       "  'bnf_name': 'Pentasa_Suppos 1g',\n",
       "  'nic': 40.01,\n",
       "  'act_cost': 37.05,\n",
       "  'quantity': 28},\n",
       " {'bnf_code': '0105010B0BCAEAN',\n",
       "  'items': 1,\n",
       "  'practice': 'N81013',\n",
       "  'bnf_name': 'Pentasa_Gran Sach 1g M/R',\n",
       "  'nic': 68.86,\n",
       "  'act_cost': 63.86,\n",
       "  'quantity': 112},\n",
       " {'bnf_code': '0105010B0BHAAAR',\n",
       "  'items': 1,\n",
       "  'practice': 'N81013',\n",
       "  'bnf_name': 'Mezavant XL_Tab G/R 1.2g',\n",
       "  'nic': 42.95,\n",
       "  'act_cost': 39.77,\n",
       "  'quantity': 60},\n",
       " {'bnf_code': '0105010B0BIAAAS',\n",
       "  'items': 5,\n",
       "  'practice': 'N81013',\n",
       "  'bnf_name': 'Octasa_MR Tab E/C 800mg',\n",
       "  'nic': 494.0,\n",
       "  'act_cost': 457.79,\n",
       "  'quantity': 936}]"
      ]
     },
     "execution_count": 8,
     "metadata": {},
     "output_type": "execute_result"
    }
   ],
   "source": [
    "scripts[:50]"
   ]
  },
  {
   "cell_type": "markdown",
   "metadata": {},
   "source": [
    "A [glossary of terms](http://webarchive.nationalarchives.gov.uk/20180328130852tf_/http://content.digital.nhs.uk/media/10686/Download-glossary-of-terms-for-GP-prescribing---presentation-level/pdf/PLP_Presentation_Level_Glossary_April_2015.pdf/) and [FAQ](http://webarchive.nationalarchives.gov.uk/20180328130852tf_/http://content.digital.nhs.uk/media/10048/FAQs-Practice-Level-Prescribingpdf/pdf/PLP_FAQs_April_2015.pdf/) is available from the NHS regarding the data. Below we supply a data dictionary briefly describing what these fields mean.\n",
    "\n",
    "| Data field |Description|\n",
    "|:----------:|-----------|\n",
    "|`'practice'`|Code designating the medical practice issuing the prescription|\n",
    "|`'bnf_code'`|British National Formulary drug code|\n",
    "|`'bnf_name'`|British National Formulary drug name|\n",
    "|`'quantity'`|Number of capsules/quantity of liquid/grams of powder prescribed|\n",
    "| `'items'`  |Number of refills (e.g. if `'quantity'` is 30 capsules, 3 `'items'` means 3 bottles of 30 capsules)|\n",
    "|  `'nic'`   |Net ingredient cost|\n",
    "|`'act_cost'`|Total cost including containers, fees, and discounts|"
   ]
  },
  {
   "cell_type": "markdown",
   "metadata": {},
   "source": [
    "The `practices` variable is a list of member medical practices of the NHS. Each practice is represented by a dictionary containing identifying information for the medical practice. Most of the data fields are self-explanatory. Notice the values in the `'code'` field of `practices` match the values in the `'practice'` field of `scripts`."
   ]
  },
  {
   "cell_type": "code",
   "execution_count": 41,
   "metadata": {},
   "outputs": [
    {
     "data": {
      "text/plain": [
       "[{'code': 'A81001',\n",
       "  'name': 'THE DENSHAM SURGERY',\n",
       "  'addr_1': 'THE HEALTH CENTRE',\n",
       "  'addr_2': 'LAWSON STREET',\n",
       "  'borough': 'STOCKTON ON TEES',\n",
       "  'village': 'CLEVELAND',\n",
       "  'post_code': 'TS18 1HU'},\n",
       " {'code': 'A81002',\n",
       "  'name': 'QUEENS PARK MEDICAL CENTRE',\n",
       "  'addr_1': 'QUEENS PARK MEDICAL CTR',\n",
       "  'addr_2': 'FARRER STREET',\n",
       "  'borough': 'STOCKTON ON TEES',\n",
       "  'village': 'CLEVELAND',\n",
       "  'post_code': 'TS18 2AW'},\n",
       " {'code': 'A81003',\n",
       "  'name': 'VICTORIA MEDICAL PRACTICE',\n",
       "  'addr_1': 'THE HEALTH CENTRE',\n",
       "  'addr_2': 'VICTORIA ROAD',\n",
       "  'borough': 'HARTLEPOOL',\n",
       "  'village': 'CLEVELAND',\n",
       "  'post_code': 'TS26 8DB'},\n",
       " {'code': 'A81004',\n",
       "  'name': 'WOODLANDS ROAD SURGERY',\n",
       "  'addr_1': '6 WOODLANDS ROAD',\n",
       "  'addr_2': None,\n",
       "  'borough': 'MIDDLESBROUGH',\n",
       "  'village': 'CLEVELAND',\n",
       "  'post_code': 'TS1 3BE'},\n",
       " {'code': 'A81005',\n",
       "  'name': 'SPRINGWOOD SURGERY',\n",
       "  'addr_1': 'SPRINGWOOD SURGERY',\n",
       "  'addr_2': 'RECTORY LANE',\n",
       "  'borough': 'GUISBOROUGH',\n",
       "  'village': None,\n",
       "  'post_code': 'TS14 7DJ'},\n",
       " {'code': 'A81006',\n",
       "  'name': 'TENNANT STREET MEDICAL PRACTICE',\n",
       "  'addr_1': 'TENNANT ST MED PRACT',\n",
       "  'addr_2': 'FARRER STREET',\n",
       "  'borough': 'STOCKTON ON TEES',\n",
       "  'village': 'CLEVELAND',\n",
       "  'post_code': 'TS18 2AT'},\n",
       " {'code': 'A81007',\n",
       "  'name': 'BANKHOUSE SURGERY',\n",
       "  'addr_1': 'ONE LIFE HARTLEPOOL',\n",
       "  'addr_2': 'PARK ROAD',\n",
       "  'borough': 'HARTLEPOOL',\n",
       "  'village': 'CLEVELAND',\n",
       "  'post_code': 'TS24 7PW'},\n",
       " {'code': 'A81008',\n",
       "  'name': 'ALBERT HOUSE CLINIC',\n",
       "  'addr_1': 'LOW GRANGE HEALTH VILLAGE',\n",
       "  'addr_2': 'NORMANBY ROAD',\n",
       "  'borough': 'MIDDLESBROUGH',\n",
       "  'village': 'CLEVELAND',\n",
       "  'post_code': 'TS6 6TD'},\n",
       " {'code': 'A81009',\n",
       "  'name': 'VILLAGE MEDICAL CENTRE',\n",
       "  'addr_1': 'THE VILLAGE MEDICAL CTR',\n",
       "  'addr_2': '400/404 LINTHORPE ROAD',\n",
       "  'borough': 'MIDDLESBROUGH',\n",
       "  'village': 'CLEVELAND',\n",
       "  'post_code': 'TS5 6HF'},\n",
       " {'code': 'A81011',\n",
       "  'name': 'CHADWICK PRACTICE',\n",
       "  'addr_1': 'ONE LIFE HARTLEPOOL',\n",
       "  'addr_2': 'PARK ROAD',\n",
       "  'borough': 'HARTLEPOOL',\n",
       "  'village': 'CLEVELAND',\n",
       "  'post_code': 'TS24 7PW'},\n",
       " {'code': 'A81012',\n",
       "  'name': 'WESTBOURNE MEDICAL CENTRE',\n",
       "  'addr_1': 'WESTBOURNE MEDICAL CENTRE',\n",
       "  'addr_2': '7 TRINITY MEWS N. ORMESBY',\n",
       "  'borough': 'MIDDLESBROUGH',\n",
       "  'village': None,\n",
       "  'post_code': 'TS3 6AL'},\n",
       " {'code': 'A81013',\n",
       "  'name': 'BROTTON SURGERY',\n",
       "  'addr_1': 'BROTTON SURGERY',\n",
       "  'addr_2': 'ALFORD ROAD BROTTON',\n",
       "  'borough': 'SALTBURN BY SEA',\n",
       "  'village': None,\n",
       "  'post_code': 'TS12 2FF'},\n",
       " {'code': 'A81014',\n",
       "  'name': 'QUEENSTREE PRACTICE',\n",
       "  'addr_1': 'THE HEALTH CENTRE',\n",
       "  'addr_2': 'QUEENSWAY',\n",
       "  'borough': 'BILLINGHAM',\n",
       "  'village': 'CLEVELAND',\n",
       "  'post_code': 'TS23 2LA'},\n",
       " {'code': 'A81015',\n",
       "  'name': 'LAGAN SURGERY',\n",
       "  'addr_1': 'LAGAN SURGERY',\n",
       "  'addr_2': '20 KIRKLEATHAM STREET',\n",
       "  'borough': 'REDCAR',\n",
       "  'village': 'CLEVELAND',\n",
       "  'post_code': 'TS10 1TZ'},\n",
       " {'code': 'A81016',\n",
       "  'name': 'PARK SURGERY',\n",
       "  'addr_1': 'PARK SURGERY  ONE LIFE',\n",
       "  'addr_2': 'LINTHORPE ROAD',\n",
       "  'borough': 'MIDDLESBROUGH',\n",
       "  'village': 'CLEVELAND',\n",
       "  'post_code': 'TS1 3QY'},\n",
       " {'code': 'A81017',\n",
       "  'name': 'WOODBRIDGE PRACTICE',\n",
       "  'addr_1': 'THE HEALTH CENTRE',\n",
       "  'addr_2': 'TRENCHARD AVE  THORNABY',\n",
       "  'borough': 'STOCKTON ON TEES',\n",
       "  'village': 'CLEVELAND',\n",
       "  'post_code': 'TS17 0EE'},\n",
       " {'code': 'A81018',\n",
       "  'name': 'BENTLEY MEDICAL PRACTICE',\n",
       "  'addr_1': 'REDCAR PRIMARY CARE HOSP',\n",
       "  'addr_2': 'WEST DYKE ROAD',\n",
       "  'borough': 'REDCAR',\n",
       "  'village': 'CLEVELAND',\n",
       "  'post_code': 'TS10 4NW'},\n",
       " {'code': 'A81019',\n",
       "  'name': 'CROSSFELL HEALTH CENTRE',\n",
       "  'addr_1': 'CROSSFELL ROAD',\n",
       "  'addr_2': 'BERWICK HILLS',\n",
       "  'borough': 'MIDDLESBROUGH',\n",
       "  'village': 'CLEVELAND',\n",
       "  'post_code': 'TS3 7RL'},\n",
       " {'code': 'A81020',\n",
       "  'name': 'MARTONSIDE MEDICAL CENTRE',\n",
       "  'addr_1': 'MARTONSIDE MEDICAL CENTRE',\n",
       "  'addr_2': '1A MARTONSIDE WAY',\n",
       "  'borough': 'MIDDLESBROUGH',\n",
       "  'village': 'CLEVELAND',\n",
       "  'post_code': 'TS4 3BU'},\n",
       " {'code': 'A81021',\n",
       "  'name': 'NORMANBY MEDICAL CENTRE',\n",
       "  'addr_1': 'NORMANBY MEDICAL CENTRE',\n",
       "  'addr_2': 'LOW GRANGE HV NORMANBY RD',\n",
       "  'borough': 'MIDDLESBROUGH',\n",
       "  'village': 'CLEVELAND',\n",
       "  'post_code': 'TS6 6TD'},\n",
       " {'code': 'A81022',\n",
       "  'name': 'HILLSIDE PRACTICE',\n",
       "  'addr_1': 'HILLSIDE PRACTICE',\n",
       "  'addr_2': 'WINDERMERE DRIVE SKELTON',\n",
       "  'borough': 'SALTBURN BY THE SEA',\n",
       "  'village': 'CLEVELAND',\n",
       "  'post_code': 'TS12 2TG'},\n",
       " {'code': 'A81023',\n",
       "  'name': 'THE ENDEAVOUR PRACTICE',\n",
       "  'addr_1': 'THE HEALTH CENTRE',\n",
       "  'addr_2': '20 CLEVELAND SQUARE',\n",
       "  'borough': 'MIDDLESBROUGH',\n",
       "  'village': 'CLEVELAND',\n",
       "  'post_code': 'TS1 2NX'},\n",
       " {'code': 'A81025',\n",
       "  'name': 'THE DOVECOT SURGERY',\n",
       "  'addr_1': 'THE HEALTH CENTRE',\n",
       "  'addr_2': 'LAWSON STREET',\n",
       "  'borough': 'STOCKTON ON TEES',\n",
       "  'village': 'CLEVELAND',\n",
       "  'post_code': 'TS18 1HU'},\n",
       " {'code': 'A81026',\n",
       "  'name': 'THE LINTHORPE SURGERY',\n",
       "  'addr_1': '378 LINTHORPE ROAD',\n",
       "  'addr_2': None,\n",
       "  'borough': 'MIDDLESBROUGH',\n",
       "  'village': 'CLEVELAND',\n",
       "  'post_code': 'TS5 6HA'},\n",
       " {'code': 'A81027',\n",
       "  'name': 'YARM MEDICAL PRACTICE',\n",
       "  'addr_1': 'YARM MEDICAL PRACTICE',\n",
       "  'addr_2': 'MULBERRY HOUSE',\n",
       "  'borough': '1 WORSALL ROAD',\n",
       "  'village': 'YARM  CLEVELAND',\n",
       "  'post_code': 'TS15 9DD'},\n",
       " {'code': 'A81029',\n",
       "  'name': 'PROSPECT SURGERY',\n",
       "  'addr_1': 'THE HEALTH CENTRE',\n",
       "  'addr_2': 'PO BOX 101E',\n",
       "  'borough': '20 CLEVELAND SQUARE',\n",
       "  'village': 'MIDDLESBROUGH',\n",
       "  'post_code': 'TS1 2NX'},\n",
       " {'code': 'A81030',\n",
       "  'name': 'BOROUGH ROAD & NUNTHORPE MEDICAL GROUP',\n",
       "  'addr_1': '167A BOROUGH ROAD',\n",
       "  'addr_2': None,\n",
       "  'borough': 'MIDDLESBROUGH',\n",
       "  'village': None,\n",
       "  'post_code': 'TS1 3RY'},\n",
       " {'code': 'A81031',\n",
       "  'name': 'HAVELOCK GRANGE PRACTICE',\n",
       "  'addr_1': 'ONE LIFE HARTLEPOOL',\n",
       "  'addr_2': 'PARK ROAD',\n",
       "  'borough': 'HARTLEPOOL',\n",
       "  'village': 'CLEVELAND',\n",
       "  'post_code': 'TS24 7PW'},\n",
       " {'code': 'A81032',\n",
       "  'name': 'THE GARTH',\n",
       "  'addr_1': 'THE GARTH SURGERY',\n",
       "  'addr_2': 'RECTORY LANE',\n",
       "  'borough': 'GUISBOROUGH',\n",
       "  'village': 'CLEVELAND',\n",
       "  'post_code': 'TS14 7DJ'},\n",
       " {'code': 'A81033',\n",
       "  'name': 'OAKFIELD MEDICAL PRACTICE',\n",
       "  'addr_1': 'OAKFIELDS MED PRACTICE',\n",
       "  'addr_2': '1 TRINITY MEWS N. ORMESBY',\n",
       "  'borough': 'MIDDLESBROUGH',\n",
       "  'village': None,\n",
       "  'post_code': 'TS3 6AL'},\n",
       " {'code': 'A81034',\n",
       "  'name': 'THORNABY & BARWICK MEDICAL GROUP',\n",
       "  'addr_1': 'THORNABY HEALTH CENTRE',\n",
       "  'addr_2': 'TRENCHARD AVE  THORNABY',\n",
       "  'borough': 'STOCKTON ON TEES',\n",
       "  'village': 'CLEVELAND',\n",
       "  'post_code': 'TS17 0EE'},\n",
       " {'code': 'A81035',\n",
       "  'name': 'NEWLANDS MEDICAL CENTRE',\n",
       "  'addr_1': 'NEWLANDS MEDICAL CENTRE',\n",
       "  'addr_2': 'BOROUGH ROAD',\n",
       "  'borough': 'MIDDLESBROUGH',\n",
       "  'village': 'CLEVELAND',\n",
       "  'post_code': 'TS1 3RX'},\n",
       " {'code': 'A81036',\n",
       "  'name': 'NORTON MEDICAL CENTRE',\n",
       "  'addr_1': 'NORTON MEDICAL CENTRE',\n",
       "  'addr_2': 'BILLINGHAM ROAD  NORTON',\n",
       "  'borough': 'STOCKTON-ON-TEES',\n",
       "  'village': 'CLEVELAND',\n",
       "  'post_code': 'TS20 2UZ'},\n",
       " {'code': 'A81037',\n",
       "  'name': 'THE ERIMUS PRACTICE',\n",
       "  'addr_1': 'THE CLEVELAND HEALTH CTR',\n",
       "  'addr_2': '20 CLEVELAND SQUARE',\n",
       "  'borough': 'MIDDLESBROUGH',\n",
       "  'village': None,\n",
       "  'post_code': 'TS1 2NX'},\n",
       " {'code': 'A81038',\n",
       "  'name': 'HIRSEL MEDICAL CENTRE',\n",
       "  'addr_1': 'HIRSEL MEDICAL CENTRE',\n",
       "  'addr_2': '5 TRINITY MEWS  N.ORMESBY',\n",
       "  'borough': 'MIDDLESBROUGH',\n",
       "  'village': 'CLEVELAND',\n",
       "  'post_code': 'TS3 6AL'},\n",
       " {'code': 'A81039',\n",
       "  'name': 'EAGLESCLIFFE MEDICAL PRACTICE',\n",
       "  'addr_1': 'EAGLESCLIFFE MED PRACTICE',\n",
       "  'addr_2': 'SUNNINGDALE DRIVE',\n",
       "  'borough': 'EAGLESCLIFFE',\n",
       "  'village': 'STOCKTON-ON-TEES',\n",
       "  'post_code': 'TS16 9EA'},\n",
       " {'code': 'A81040',\n",
       "  'name': 'MARSH HOUSE MEDICAL PRACTICE',\n",
       "  'addr_1': 'ABBEY HEALTH CENTRE',\n",
       "  'addr_2': 'FINCHALE AVENUE',\n",
       "  'borough': 'BILLINGHAM',\n",
       "  'village': 'CLEVELAND',\n",
       "  'post_code': 'TS23 2DG'},\n",
       " {'code': 'A81041',\n",
       "  'name': 'HART MEDICAL PRACTICE',\n",
       "  'addr_1': 'HART MEDICAL PRACTICE',\n",
       "  'addr_2': 'SURGERY LANE',\n",
       "  'borough': 'HARTLEPOOL',\n",
       "  'village': 'CLEVELAND',\n",
       "  'post_code': 'TS24 9DN'},\n",
       " {'code': 'A81042',\n",
       "  'name': 'SOUTH GRANGE MEDICAL CENTRE',\n",
       "  'addr_1': 'SOUTH GRANGE MEDICAL CTR.',\n",
       "  'addr_2': 'TRUNK ROAD  ESTON',\n",
       "  'borough': 'MIDDLESBROUGH',\n",
       "  'village': 'CLEVELAND',\n",
       "  'post_code': 'TS6 9QG'},\n",
       " {'code': 'A81043',\n",
       "  'name': 'THE MANOR HOUSE SURGERY',\n",
       "  'addr_1': 'THE MANOR HOUSE SURGERY',\n",
       "  'addr_2': 'BRAIDWOOD ROAD  NORMANBY',\n",
       "  'borough': 'MIDDLESBROUGH',\n",
       "  'village': 'CLEVELAND',\n",
       "  'post_code': 'TS6 0HA'}]"
      ]
     },
     "execution_count": 41,
     "metadata": {},
     "output_type": "execute_result"
    }
   ],
   "source": [
    "practices[:40]"
   ]
  },
  {
   "cell_type": "code",
   "execution_count": null,
   "metadata": {},
   "outputs": [],
   "source": []
  },
  {
   "cell_type": "markdown",
   "metadata": {},
   "source": [
    "In the following questions we will ask you to explore this data set. You may need to combine pieces of the data set together in order to answer some questions. Not every element of the data set will be used in answering the questions."
   ]
  },
  {
   "cell_type": "markdown",
   "metadata": {},
   "source": [
    "## Question 1: summary_statistics\n",
    "\n",
    "Our beneficiary data (`scripts`) contains quantitative data on the number of items dispensed (`'items'`), the total quantity of item dispensed (`'quantity'`), the net cost of the ingredients (`'nic'`), and the actual cost to the patient (`'act_cost'`). Whenever working with a new data set, it can be useful to calculate summary statistics to develop a feeling for the volume and character of the data. This makes it easier to spot trends and significant features during further stages of analysis.\n",
    "\n",
    "Calculate the sum, mean, standard deviation, and quartile statistics for each of these quantities. Format your results for each quantity as a list: `[sum, mean, standard deviation, 1st quartile, median, 3rd quartile]`. We'll create a `tuple` with these lists for each quantity as a final result."
   ]
  },
  {
   "cell_type": "code",
   "execution_count": 22,
   "metadata": {},
   "outputs": [],
   "source": [
    "def average(data, key):\n",
    "    l = [d[key] for d in data]\n",
    "    total = sum(l)\n",
    "    average = total/len(data)\n",
    "    return average\n",
    "        \n"
   ]
  },
  {
   "cell_type": "code",
   "execution_count": 23,
   "metadata": {},
   "outputs": [],
   "source": [
    "def std_dev(data,key,avg):\n",
    "    s = [(d[key]-avg)**2 for d in data]\n",
    "    k = (sum(s)/len(data))**0.5\n",
    "    return k"
   ]
  },
  {
   "cell_type": "code",
   "execution_count": 24,
   "metadata": {},
   "outputs": [],
   "source": [
    "import math\n",
    "def median1(data, key):\n",
    "    l=[d[key] for d in data]\n",
    "    l = sorted(l)\n",
    "    #print(l)\n",
    "    if len(l)%2 == 1:\n",
    "        index_of_median = len(l)/2\n",
    "        index_of_median = math.floor(index_of_median)\n",
    "        #print(index_of_median)\n",
    "        return l[index_of_median]\n",
    "    else:\n",
    "        index_of_median = [len(l)//2 -1 , len(l) // 2]\n",
    "        \n",
    "        #print(index_of_median)\n",
    "        #print(l[index_of_median[1]])\n",
    "        return (l[index_of_median[0]] + l[index_of_median[1]]) // 2\n",
    "\n",
    "#data = [{'item': 1},{'item': 2},{'item': 3},{'item': 8},{'item': 5},{'item': 5}]\n",
    "#median(data,'item')"
   ]
  },
  {
   "cell_type": "code",
   "execution_count": 9,
   "metadata": {},
   "outputs": [],
   "source": [
    "import math\n",
    "def median2(l):\n",
    "    #l = sorted(l)\n",
    "    #print(l)\n",
    "    if len(l) % 2 == 1:\n",
    "        index_of_median = len(l) // 2\n",
    "        #index_of_median = math.floor(index_of_median)\n",
    "        #print(index_of_median)\n",
    "        return l[index_of_median]\n",
    "    else:\n",
    "        index_of_median = [len(l) // 2 -1 , len(l) // 2]\n",
    "        \n",
    "        #print(index_of_median)\n",
    "        #print(l[index_of_median[1]])\n",
    "        return (l[index_of_median[0]] + l[index_of_median[1]]) // 2\n"
   ]
  },
  {
   "cell_type": "code",
   "execution_count": 25,
   "metadata": {},
   "outputs": [
    {
     "data": {
      "text/plain": [
       "3"
      ]
     },
     "execution_count": 25,
     "metadata": {},
     "output_type": "execute_result"
    }
   ],
   "source": [
    "def quar_first(data,key):\n",
    "    #So basically 1st quad is the median of the first half which means that if we have 100 items then it will be the median of first 50 items\n",
    "    l=[d[key] for d in data]\n",
    "    l = sorted(l)\n",
    "    first_half = (len(data) // 2) + 1\n",
    "    #print(first_half)\n",
    "    #print(l[:first_half])\n",
    "    a = median2(l[:first_half])\n",
    "    return a\n",
    "    \n",
    "data = [{'item': 1},{'item': 2},{'item': 3},{'item': 8},{'item': 5},{'item': 5},{'item': 6},{'item': 9},{'item': 3}]\n",
    "quar_first(data,'item')"
   ]
  },
  {
   "cell_type": "code",
   "execution_count": 26,
   "metadata": {},
   "outputs": [],
   "source": [
    "def quar_third(data,key):\n",
    "    #So basically 3rt quad is the median of the second half which means that if we have 100 items then it will be the median of last 50 items\n",
    "    l=[d[key] for d in data]\n",
    "    l = sorted(l)\n",
    "    #print(l)\n",
    "    second_half = len(data) // 2\n",
    "    #print(second_half)\n",
    "    #print(l[second_half:])\n",
    "    a = median2(l[second_half:])\n",
    "    return a\n",
    "    \n",
    "#data = [{'item': 1},{'item': 2},{'item': 3},{'item': 8},{'item': 5},{'item': 5},{'item': 6},{'item': 9},{'item': 3}]\n",
    "#quar_third(data,'item')\n",
    "\n"
   ]
  },
  {
   "cell_type": "code",
   "execution_count": 13,
   "metadata": {},
   "outputs": [],
   "source": [
    "def cal_quantiles(vals):\n",
    "    vals = sorted(vals)\n",
    "    first_half = vals[:len(vals) // 2 + 1]\n",
    "    second_half = vals[len(vals) // 2:]\n",
    "    \n",
    "    q25 = median2(first_half)\n",
    "    median = median2(vals)\n",
    "    q75 = median2(second_half)\n",
    "    \n",
    "    return q25, median, q75"
   ]
  },
  {
   "cell_type": "code",
   "execution_count": 27,
   "metadata": {},
   "outputs": [
    {
     "data": {
      "text/plain": [
       "(4410054, 11.522744731217633, 33.11216633980368, 1, 3, 8)"
      ]
     },
     "execution_count": 27,
     "metadata": {},
     "output_type": "execute_result"
    }
   ],
   "source": [
    "\n",
    "def describe(data, key):\n",
    "    avg = 0\n",
    "    total = [d[key] for d in data]\n",
    "    total = sum(total)\n",
    "    avg = average(data,key)\n",
    "    s = std_dev(data,key,avg)\n",
    "    q25 = quar_first(data,key)\n",
    "    med = median1(data, key)\n",
    "    q75 = quar_third(data,key)\n",
    "    \n",
    "   \n",
    "    return (total, avg, s, q25, med, q75)\n",
    "\n",
    "describe(scripts,'items')\n"
   ]
  },
  {
   "cell_type": "code",
   "execution_count": 33,
   "metadata": {},
   "outputs": [
    {
     "ename": "SyntaxError",
     "evalue": "invalid syntax (<ipython-input-33-3980a3da98cb>, line 22)",
     "output_type": "error",
     "traceback": [
      "\u001b[0;36m  File \u001b[0;32m\"<ipython-input-33-3980a3da98cb>\"\u001b[0;36m, line \u001b[0;32m22\u001b[0m\n\u001b[0;31m    return sorted(data)[int(math.ceil(p)) - 1] `\u001b[0m\n\u001b[0m                                               ^\u001b[0m\n\u001b[0;31mSyntaxError\u001b[0m\u001b[0;31m:\u001b[0m invalid syntax\n"
     ]
    }
   ],
   "source": [
    "def median3(data):\n",
    "    n = len(data)\n",
    "    p = n * (50 / 100)\n",
    "    if p.is_integer():\n",
    "        return sorted(data)[int(p)]\n",
    "    else:\n",
    "        return sorted(data)[int(math.ceil(p)) - 1]\n",
    "def q25(data):\n",
    "    n = len(data)\n",
    "    p = n *(25 / 100)\n",
    "    if p.is_integer():\n",
    "        return sorted(data)[int(p)]\n",
    "    else:\n",
    "        return sorted(data)[int(math.ceil(p)) - 1]\n",
    "\n",
    "def q75(data):\n",
    "    n = len(data)\n",
    "    p = n *(75 / 100)\n",
    "    if p.is_integer():\n",
    "        return sorted(data)[int(p)]\n",
    "    else:\n",
    "        return sorted(data)[int(math.ceil(p)) - 1] \n",
    "    \n",
    "\n",
    "def cal_quantiles2(vals):\n",
    "    vals = sorted(vals)\n",
    "    \n",
    "    q25 = q25(vals)\n",
    "    median = median3(vals)\n",
    "    q75 = q75(vals)\n",
    "    \n",
    "    return q25, median, q75"
   ]
  },
  {
   "cell_type": "code",
   "execution_count": 31,
   "metadata": {},
   "outputs": [],
   "source": [
    "summary = [('items', describe2(scripts, 'items')),\n",
    "           ('quantity', describe2(scripts, 'quantity')),\n",
    "           ('nic', describe2(scripts, 'nic')),\n",
    "           ('act_cost', describe2(scripts, 'act_cost'))]"
   ]
  },
  {
   "cell_type": "code",
   "execution_count": 30,
   "metadata": {},
   "outputs": [
    {
     "data": {
      "text/plain": [
       "(4410054, 11.522744731217633, 33.11216633980368, 1, 3, 8)"
      ]
     },
     "execution_count": 30,
     "metadata": {},
     "output_type": "execute_result"
    }
   ],
   "source": [
    "def describe2(data, key):\n",
    "    vals = [d[key] for d in data]\n",
    "    total = sum(vals)\n",
    "    avg = total / len(vals)\n",
    "    sum_squares = sum([(val - avg) ** 2 for val in vals])\n",
    "    s = (sum_squares / len(vals)) ** 0.5\n",
    "    q25 , med , q75 = cal_quantiles2(vals)\n",
    "   \n",
    "    return (total, avg, s, q25, med, q75)\n",
    "\n",
    "describe2(scripts,'items')"
   ]
  },
  {
   "cell_type": "code",
   "execution_count": 32,
   "metadata": {},
   "outputs": [
    {
     "name": "stdout",
     "output_type": "stream",
     "text": [
      "==================\n",
      "Your score: 0.833\n",
      "==================\n"
     ]
    }
   ],
   "source": [
    "grader.score.pw__summary_statistics(summary)"
   ]
  },
  {
   "cell_type": "markdown",
   "metadata": {},
   "source": [
    "## Question 2: most_common_item\n",
    "\n",
    "Often we are not interested only in how the data is distributed in our entire data set, but within particular groups -- for example, how many items of each drug (i.e. `'bnf_name'`) were prescribed? Calculate the total items prescribed for each `'bnf_name'`. What is the most commonly prescribed `'bnf_name'` in our data?\n",
    "\n",
    "To calculate this, we first need to split our data set into groups corresponding with the different values of `'bnf_name'`. Then we can sum the number of items dispensed within in each group. Finally we can find the largest sum.\n",
    "\n",
    "We'll use `'bnf_name'` to construct our groups. You should have *5619* unique values for `'bnf_name'`."
   ]
  },
  {
   "cell_type": "code",
   "execution_count": 148,
   "metadata": {},
   "outputs": [],
   "source": [
    "bnf_names = {d['bnf_name'] for d in scripts} #As we are making a set here so this will only contain the name one time, we donot have to do an extra effort to remove the same bnf_names\n",
    "assert(len(bnf_names) == 5619)"
   ]
  },
  {
   "cell_type": "markdown",
   "metadata": {},
   "source": [
    "We want to construct \"groups\" identified by `'bnf_name'`, where each group is a collection of prescriptions (i.e. dictionaries from `scripts`). We'll construct a dictionary called `groups`, using `bnf_names` as the keys. We'll represent a group with a `list`, since we can easily append new members to the group. To split our `scripts` into groups by `'bnf_name'`, we should iterate over `scripts`, appending prescription dictionaries to each group as we encounter them."
   ]
  },
  {
   "cell_type": "code",
   "execution_count": 149,
   "metadata": {},
   "outputs": [],
   "source": [
    "groups = {name: [] for name in bnf_names} #Here we are trying to make a dictnoary which will be having bnf_name as dictionary's key and value will be a list containing all those dictonaries with the same bnf_name\n",
    "for script in scripts:                    #Above we are making a dictioanry with  empty list as value\n",
    "    bnf_name = script['bnf_name']         #Here we are intializing bnf_name\n",
    "    groups[bnf_name].append(script)       #Here we are appending all the scripts which contains the same bnf_name"
   ]
  },
  {
   "cell_type": "code",
   "execution_count": 21,
   "metadata": {},
   "outputs": [
    {
     "data": {
      "text/plain": [
       "'Co-Magaldrox_Susp 195mg/220mg/5ml S/F'"
      ]
     },
     "execution_count": 21,
     "metadata": {},
     "output_type": "execute_result"
    }
   ],
   "source": [
    "scripts[0]['bnf_name']"
   ]
  },
  {
   "cell_type": "code",
   "execution_count": 22,
   "metadata": {},
   "outputs": [
    {
     "data": {
      "text/plain": [
       "[{'bnf_code': '0101010G0AAABAB',\n",
       "  'items': 2,\n",
       "  'practice': 'N81013',\n",
       "  'bnf_name': 'Co-Magaldrox_Susp 195mg/220mg/5ml S/F',\n",
       "  'nic': 5.98,\n",
       "  'act_cost': 5.56,\n",
       "  'quantity': 1000},\n",
       " {'bnf_code': '0101010G0AAABAB',\n",
       "  'items': 1,\n",
       "  'practice': 'N81029',\n",
       "  'bnf_name': 'Co-Magaldrox_Susp 195mg/220mg/5ml S/F',\n",
       "  'nic': 2.99,\n",
       "  'act_cost': 2.78,\n",
       "  'quantity': 500},\n",
       " {'bnf_code': '0101010G0AAABAB',\n",
       "  'items': 2,\n",
       "  'practice': 'N81088',\n",
       "  'bnf_name': 'Co-Magaldrox_Susp 195mg/220mg/5ml S/F',\n",
       "  'nic': 5.98,\n",
       "  'act_cost': 5.56,\n",
       "  'quantity': 1000},\n",
       " {'bnf_code': '0101010G0AAABAB',\n",
       "  'items': 6,\n",
       "  'practice': 'A81017',\n",
       "  'bnf_name': 'Co-Magaldrox_Susp 195mg/220mg/5ml S/F',\n",
       "  'nic': 20.93,\n",
       "  'act_cost': 19.45,\n",
       "  'quantity': 3500},\n",
       " {'bnf_code': '0101010G0AAABAB',\n",
       "  'items': 2,\n",
       "  'practice': 'A81034',\n",
       "  'bnf_name': 'Co-Magaldrox_Susp 195mg/220mg/5ml S/F',\n",
       "  'nic': 5.98,\n",
       "  'act_cost': 5.56,\n",
       "  'quantity': 1000},\n",
       " {'bnf_code': '0101010G0AAABAB',\n",
       "  'items': 10,\n",
       "  'practice': 'P85003',\n",
       "  'bnf_name': 'Co-Magaldrox_Susp 195mg/220mg/5ml S/F',\n",
       "  'nic': 29.9,\n",
       "  'act_cost': 27.8,\n",
       "  'quantity': 5000},\n",
       " {'bnf_code': '0101010G0AAABAB',\n",
       "  'items': 4,\n",
       "  'practice': 'P85007',\n",
       "  'bnf_name': 'Co-Magaldrox_Susp 195mg/220mg/5ml S/F',\n",
       "  'nic': 11.96,\n",
       "  'act_cost': 11.12,\n",
       "  'quantity': 2000},\n",
       " {'bnf_code': '0101010G0AAABAB',\n",
       "  'items': 1,\n",
       "  'practice': 'P85601',\n",
       "  'bnf_name': 'Co-Magaldrox_Susp 195mg/220mg/5ml S/F',\n",
       "  'nic': 2.99,\n",
       "  'act_cost': 2.78,\n",
       "  'quantity': 500},\n",
       " {'bnf_code': '0101010G0AAABAB',\n",
       "  'items': 1,\n",
       "  'practice': 'P86609',\n",
       "  'bnf_name': 'Co-Magaldrox_Susp 195mg/220mg/5ml S/F',\n",
       "  'nic': 2.99,\n",
       "  'act_cost': 2.78,\n",
       "  'quantity': 500},\n",
       " {'bnf_code': '0101010G0AAABAB',\n",
       "  'items': 3,\n",
       "  'practice': 'P86619',\n",
       "  'bnf_name': 'Co-Magaldrox_Susp 195mg/220mg/5ml S/F',\n",
       "  'nic': 8.97,\n",
       "  'act_cost': 8.34,\n",
       "  'quantity': 1500},\n",
       " {'bnf_code': '0101010G0AAABAB',\n",
       "  'items': 1,\n",
       "  'practice': 'P81020',\n",
       "  'bnf_name': 'Co-Magaldrox_Susp 195mg/220mg/5ml S/F',\n",
       "  'nic': 2.99,\n",
       "  'act_cost': 2.78,\n",
       "  'quantity': 500},\n",
       " {'bnf_code': '0101010G0AAABAB',\n",
       "  'items': 1,\n",
       "  'practice': 'P81025',\n",
       "  'bnf_name': 'Co-Magaldrox_Susp 195mg/220mg/5ml S/F',\n",
       "  'nic': 2.99,\n",
       "  'act_cost': 2.78,\n",
       "  'quantity': 500},\n",
       " {'bnf_code': '0101010G0AAABAB',\n",
       "  'items': 1,\n",
       "  'practice': 'P81123',\n",
       "  'bnf_name': 'Co-Magaldrox_Susp 195mg/220mg/5ml S/F',\n",
       "  'nic': 2.99,\n",
       "  'act_cost': 2.78,\n",
       "  'quantity': 500},\n",
       " {'bnf_code': '0101010G0AAABAB',\n",
       "  'items': 1,\n",
       "  'practice': 'P81780',\n",
       "  'bnf_name': 'Co-Magaldrox_Susp 195mg/220mg/5ml S/F',\n",
       "  'nic': 2.99,\n",
       "  'act_cost': 2.78,\n",
       "  'quantity': 500},\n",
       " {'bnf_code': '0101010G0AAABAB',\n",
       "  'items': 6,\n",
       "  'practice': 'A84009',\n",
       "  'bnf_name': 'Co-Magaldrox_Susp 195mg/220mg/5ml S/F',\n",
       "  'nic': 17.94,\n",
       "  'act_cost': 16.68,\n",
       "  'quantity': 3000},\n",
       " {'bnf_code': '0101010G0AAABAB',\n",
       "  'items': 1,\n",
       "  'practice': 'A84014',\n",
       "  'bnf_name': 'Co-Magaldrox_Susp 195mg/220mg/5ml S/F',\n",
       "  'nic': 2.99,\n",
       "  'act_cost': 2.78,\n",
       "  'quantity': 500},\n",
       " {'bnf_code': '0101010G0AAABAB',\n",
       "  'items': 3,\n",
       "  'practice': 'Y00151',\n",
       "  'bnf_name': 'Co-Magaldrox_Susp 195mg/220mg/5ml S/F',\n",
       "  'nic': 11.96,\n",
       "  'act_cost': 11.11,\n",
       "  'quantity': 2000},\n",
       " {'bnf_code': '0101010G0AAABAB',\n",
       "  'items': 1,\n",
       "  'practice': 'A89010',\n",
       "  'bnf_name': 'Co-Magaldrox_Susp 195mg/220mg/5ml S/F',\n",
       "  'nic': 11.96,\n",
       "  'act_cost': 11.08,\n",
       "  'quantity': 2000},\n",
       " {'bnf_code': '0101010G0AAABAB',\n",
       "  'items': 1,\n",
       "  'practice': 'A89019',\n",
       "  'bnf_name': 'Co-Magaldrox_Susp 195mg/220mg/5ml S/F',\n",
       "  'nic': 2.99,\n",
       "  'act_cost': 2.78,\n",
       "  'quantity': 500},\n",
       " {'bnf_code': '0101010G0AAABAB',\n",
       "  'items': 1,\n",
       "  'practice': 'A89022',\n",
       "  'bnf_name': 'Co-Magaldrox_Susp 195mg/220mg/5ml S/F',\n",
       "  'nic': 2.99,\n",
       "  'act_cost': 2.78,\n",
       "  'quantity': 500},\n",
       " {'bnf_code': '0101010G0AAABAB',\n",
       "  'items': 1,\n",
       "  'practice': 'A89604',\n",
       "  'bnf_name': 'Co-Magaldrox_Susp 195mg/220mg/5ml S/F',\n",
       "  'nic': 2.99,\n",
       "  'act_cost': 2.78,\n",
       "  'quantity': 500},\n",
       " {'bnf_code': '0101010G0AAABAB',\n",
       "  'items': 5,\n",
       "  'practice': 'C87005',\n",
       "  'bnf_name': 'Co-Magaldrox_Susp 195mg/220mg/5ml S/F',\n",
       "  'nic': 14.95,\n",
       "  'act_cost': 13.9,\n",
       "  'quantity': 2500},\n",
       " {'bnf_code': '0101010G0AAABAB',\n",
       "  'items': 20,\n",
       "  'practice': 'C87017',\n",
       "  'bnf_name': 'Co-Magaldrox_Susp 195mg/220mg/5ml S/F',\n",
       "  'nic': 63.15,\n",
       "  'act_cost': 58.7,\n",
       "  'quantity': 10500},\n",
       " {'bnf_code': '0101010G0AAABAB',\n",
       "  'items': 2,\n",
       "  'practice': 'C82642',\n",
       "  'bnf_name': 'Co-Magaldrox_Susp 195mg/220mg/5ml S/F',\n",
       "  'nic': 4.19,\n",
       "  'act_cost': 4.0,\n",
       "  'quantity': 700},\n",
       " {'bnf_code': '0101010G0AAABAB',\n",
       "  'items': 5,\n",
       "  'practice': 'C82667',\n",
       "  'bnf_name': 'Co-Magaldrox_Susp 195mg/220mg/5ml S/F',\n",
       "  'nic': 14.95,\n",
       "  'act_cost': 13.9,\n",
       "  'quantity': 2500},\n",
       " {'bnf_code': '0101010G0AAABAB',\n",
       "  'items': 3,\n",
       "  'practice': 'C83009',\n",
       "  'bnf_name': 'Co-Magaldrox_Susp 195mg/220mg/5ml S/F',\n",
       "  'nic': 11.96,\n",
       "  'act_cost': 11.11,\n",
       "  'quantity': 2000},\n",
       " {'bnf_code': '0101010G0AAABAB',\n",
       "  'items': 1,\n",
       "  'practice': 'C83072',\n",
       "  'bnf_name': 'Co-Magaldrox_Susp 195mg/220mg/5ml S/F',\n",
       "  'nic': 5.98,\n",
       "  'act_cost': 5.55,\n",
       "  'quantity': 1000}]"
      ]
     },
     "execution_count": 22,
     "metadata": {},
     "output_type": "execute_result"
    }
   ],
   "source": [
    "groups['Co-Magaldrox_Susp 195mg/220mg/5ml S/F']"
   ]
  },
  {
   "cell_type": "markdown",
   "metadata": {},
   "source": [
    "Now that we've constructed our groups we should sum up `'items'` in each group and find the `'bnf_name'` with the largest sum. The result, `max_item`, should have the form `[(bnf_name, item total)]`, e.g. `[('Foobar', 2000)]`."
   ]
  },
  {
   "cell_type": "code",
   "execution_count": 23,
   "metadata": {},
   "outputs": [
    {
     "name": "stdout",
     "output_type": "stream",
     "text": [
      "238 ms ± 11.9 ms per loop (mean ± std. dev. of 7 runs, 1 loop each)\n"
     ]
    }
   ],
   "source": [
    "%%timeit\n",
    "highest_sum = 0\n",
    "for name in bnf_names:                    #Here we are extracting the names of the bnf_names set which we have defined above\n",
    "    group_with_name_only = groups[name]   #Here we are extracting the group with one specific name of the bnf_name at the time\n",
    "    sum = 0\n",
    "    for script in group_with_name_only:   #Here we are extracting the scripts associated with the single drug\n",
    "        sum = sum + script['items']       #Here we are extracting the items key in that script\n",
    "    if sum > highest_sum:\n",
    "        highest_sum = sum\n",
    "        highest_drug = name"
   ]
  },
  {
   "cell_type": "code",
   "execution_count": 24,
   "metadata": {},
   "outputs": [],
   "source": [
    "\n",
    "max_item = [(\"Omeprazole_Cap E/C 20mg\", 113826)]"
   ]
  },
  {
   "cell_type": "markdown",
   "metadata": {},
   "source": [
    "**TIP:** If you are getting an error from the grader below, please make sure your answer conforms to the correct format of `[(bnf_name, item total)]`."
   ]
  },
  {
   "cell_type": "code",
   "execution_count": 25,
   "metadata": {},
   "outputs": [
    {
     "name": "stdout",
     "output_type": "stream",
     "text": [
      "==================\n",
      "Your score: 1.000\n",
      "==================\n"
     ]
    }
   ],
   "source": [
    "grader.score.pw__most_common_item(max_item)"
   ]
  },
  {
   "cell_type": "markdown",
   "metadata": {},
   "source": [
    "**Challenge:** Write a function that constructs groups as we did above. The function should accept a list of dictionaries (e.g. `scripts` or `practices`) and a tuple of fields to `groupby` (e.g. `('bnf_name',)` or `('bnf_name', 'post_code')`) and returns a dictionary of groups. The following questions will require you to aggregate data in groups, so this could be a useful function for the rest of the miniproject."
   ]
  },
  {
   "cell_type": "code",
   "execution_count": 26,
   "metadata": {},
   "outputs": [
    {
     "ename": "SyntaxError",
     "evalue": "invalid syntax (<ipython-input-26-de5784eeb3ff>, line 3)",
     "output_type": "error",
     "traceback": [
      "\u001b[0;36m  File \u001b[0;32m\"<ipython-input-26-de5784eeb3ff>\"\u001b[0;36m, line \u001b[0;32m3\u001b[0m\n\u001b[0;31m    unique_keys = for f in fields\u001b[0m\n\u001b[0m                  ^\u001b[0m\n\u001b[0;31mSyntaxError\u001b[0m\u001b[0;31m:\u001b[0m invalid syntax\n"
     ]
    }
   ],
   "source": [
    "def group_by_field(data, fields):\n",
    "    \n",
    "    unique_keys = for f in fields\n",
    "    fields_name = {d[fields] for d in data}\n",
    "    groups = {field_name: {} for field_name  in fields_name}\n",
    "    for d in data:\n",
    "        f = d[fields]\n",
    "        groups[f].append(d)\n",
    "    return groups"
   ]
  },
  {
   "cell_type": "code",
   "execution_count": 192,
   "metadata": {},
   "outputs": [],
   "source": [
    "\n",
    "def group_by_field_v1(data,fields):\n",
    "    unique_fields = {tuple(d[f] for f in fields) for d in data}\n",
    "    #print(unique_fields)\n",
    "    groups = {key:[] for key in unique_fields}\n",
    "    #print(groups)\n",
    "    for d in data:\n",
    "        key = tuple(d[f] for f in fields) #Here we are doing the same thing but only the difference is that we are using the tuple instead of of single entry\n",
    "        groups[key].append(d)\n",
    "    return groups\n",
    "\n",
    "\n"
   ]
  },
  {
   "cell_type": "code",
   "execution_count": 191,
   "metadata": {},
   "outputs": [],
   "source": [
    "from collections import defaultdict\n",
    "\n",
    "def group_by_field_v2(data,fields):\n",
    "    groups = defaultdict(list)\n",
    "    for d in data:\n",
    "        key = tuple(d[f] for f in fields) #Here we are doing the same thing but only the difference is that we are using the tuple instead of of single entry\n",
    "        groups[key].append(d)\n",
    "    return groups"
   ]
  },
  {
   "cell_type": "code",
   "execution_count": 30,
   "metadata": {},
   "outputs": [],
   "source": [
    "def test_max_item():\n",
    "    groups = group_by_field_v1(scripts, ('bnf_name','items'))\n",
    "    highest_sum = 0\n",
    "    for name in bnf_names:                    #Here we are extracting the names of the bnf_names set which we have defined above\n",
    "        group_with_name_only = groups[name]   #Here we are extracting the group with one specific name of the bnf_name at the time\n",
    "        sum = 0\n",
    "        for script in group_with_name_only:   #Here we are extracting the scripts associated with the single drug\n",
    "            sum = sum + script['items']       #Here we are extracting the items key in that script\n",
    "        if sum > highest_sum:\n",
    "            highest_sum = sum\n",
    "            highest_drug = name\n",
    "    return [(highest_drug),(highest_sum)]"
   ]
  },
  {
   "cell_type": "code",
   "execution_count": 38,
   "metadata": {},
   "outputs": [
    {
     "data": {
      "text/plain": [
       "113826"
      ]
     },
     "execution_count": 38,
     "metadata": {},
     "output_type": "execute_result"
    }
   ],
   "source": [
    "#groups = group_by_field_v1(scripts, ('bnf_name','item'))\n",
    "sum(group['items'] for group in groups[(\"Omeprazole_Cap E/C 20mg\")])  #So bascailly here we are just extracting the highest summed drug and adding all its items in its dictionary\n",
    "#assert test_max_item == max_item"
   ]
  },
  {
   "cell_type": "markdown",
   "metadata": {},
   "source": [
    "## Question 3: postal_totals\n",
    "\n",
    "Our data set is broken up among different files. This is typical for tabular data to reduce redundancy. Each table typically contains data about a particular type of event, processes, or physical object. Data on prescriptions and medical practices are in separate files in our case. If we want to find the total items prescribed in each postal code, we will have to _join_ our prescription data (`scripts`) to our clinic data (`practices`).\n",
    "\n",
    "Find the total items prescribed in each postal code, representing the results as a list of tuples `(post code, total items prescribed)`. Sort your results ascending alphabetically by post code and take only results from the first 100 post codes. Only include post codes if there is at least one prescription from a practice in that post code.\n",
    "\n",
    "**NOTE:** Some practices have multiple postal codes associated with them. Use the alphabetically first postal code."
   ]
  },
  {
   "cell_type": "markdown",
   "metadata": {},
   "source": [
    " We can join `scripts` and `practices` based on the fact that `'practice'` in `scripts` matches `'code'` in `practices`. However, we must first deal with the repeated values of `'code'` in `practices`. We want the alphabetically first postal codes."
   ]
  },
  {
   "cell_type": "code",
   "execution_count": 117,
   "metadata": {},
   "outputs": [],
   "source": [
    "#Note!!!\n",
    "# 1. practice_postal[practice_code] is post_code\n",
    "# 2. practice_code is code\n",
    "# 3. code will never change, only the post_code will change\n",
    "practice_postal = {}\n",
    "\n",
    "for practice in practices:\n",
    "    practice_code = practice['code']                   # Making a list with only code entry of the practice dictionary\n",
    "    if practice['code'] in practice_postal:            # Checking if the code entry was already in the practice_postal dictionary then we will \n",
    "        practice_postal[practice_code] = min(practice_postal[practice_code], practice['post_code']) # 1.If the already present post_code of that practice_code is alphabetically greater then the new post_code then replace the new post_code with that. \n",
    "    else:\n",
    "        practice_postal[practice_code] = practice['post_code']"
   ]
  },
  {
   "cell_type": "code",
   "execution_count": 72,
   "metadata": {},
   "outputs": [],
   "source": []
  },
  {
   "cell_type": "markdown",
   "metadata": {},
   "source": [
    "**Challenge:** This is an aggregation of the practice data grouped by practice codes. Write an alternative implementation of the above cell using the `group_by_field` function you defined previously."
   ]
  },
  {
   "cell_type": "code",
   "execution_count": 67,
   "metadata": {},
   "outputs": [],
   "source": [
    "assert practice_postal['K82019'] == 'HP21 8TR'"
   ]
  },
  {
   "cell_type": "markdown",
   "metadata": {},
   "source": [
    "Now we can join `practice_postal` to `scripts`."
   ]
  },
  {
   "cell_type": "code",
   "execution_count": 152,
   "metadata": {},
   "outputs": [],
   "source": [
    "def cal_sum_v2(data,fields):\n",
    "    j = sum(d[fields] for d in data)\n",
    "    return j"
   ]
  },
  {
   "cell_type": "code",
   "execution_count": 160,
   "metadata": {},
   "outputs": [],
   "source": [
    "joined = scripts\n",
    "\n",
    "for script in joined:\n",
    "    script['post_code'] = practice_postal[script['practice']]\n",
    "    \n"
   ]
  },
  {
   "cell_type": "code",
   "execution_count": 141,
   "metadata": {
    "scrolled": true
   },
   "outputs": [
    {
     "name": "stdout",
     "output_type": "stream",
     "text": [
      "('SK11 6JL',)\n",
      "('CW5 5NX',)\n"
     ]
    }
   ],
   "source": [
    "groups = group_by_field_v2(joined,('post_code',))\n",
    "groups = { key:val for key, val in groups.items() if len(val) > 1 }\n",
    "items_by_post = [(print(post_code[0]), cal_sum_v2(script,'items')) for post_code, script in groups.items()] # groups.item() will return a list with [(key1,value1),(key2,value2)...] tuples. We will be taking post_code(key) as it is but with the scripts(value) we will be calculating the sum of the 'items'\n",
    "#Important!! Here we are doing one important trick, as post_code is list with the format ('SK11 6JL',) but in the solution we only want SK11 6JL so we are doing a trick by just grabbing the first entry of the tuple "
   ]
  },
  {
   "cell_type": "markdown",
   "metadata": {},
   "source": [
    "Finally we'll group the prescription dictionaries in `joined` by `'post_code'` and sum up the items prescribed in each group, as we did in the previous question."
   ]
  },
  {
   "cell_type": "code",
   "execution_count": 126,
   "metadata": {},
   "outputs": [
    {
     "data": {
      "text/plain": [
       "[('B11 4BW', 20673),\n",
       " ('B18 7AL', 19001),\n",
       " ('B21 9RY', 29103),\n",
       " ('B23 6DJ', 24859),\n",
       " ('B70 7AW', 36531)]"
      ]
     },
     "execution_count": 126,
     "metadata": {},
     "output_type": "execute_result"
    }
   ],
   "source": [
    "items_by_post = sorted(items_by_post)[:100]\n",
    "items_by_post[:5]"
   ]
  },
  {
   "cell_type": "code",
   "execution_count": 28,
   "metadata": {},
   "outputs": [
    {
     "name": "stdout",
     "output_type": "stream",
     "text": [
      "SK11 6JL\n",
      "110071\n"
     ]
    }
   ],
   "source": [
    "#bnf_names = {script['post_code'] for script in scripts}\n",
    "\n",
    "#groups = {name: [] for name in bnf_names} #Here we are trying to make a dictnoary which will be having bnf_name as dictionary's key and value will be a list containing all those dictonaries with the same bnf_name\n",
    "#for script in scripts:                    #Above we are making a dictioanry with  empty list as value\n",
    "#    bnf_name = script['post_code']         #Here we are intializing bnf_name\n",
    "#   groups[bnf_name].append(script)       #Here we are appending all the scripts which contains the same bnf_name\n",
    "\n",
    "#def cal_sum(bnf_names,groups):\n",
    " #   highest_sum = 0\n",
    "  #  for name in bnf_names:                    #Here we are extracting the names of the bnf_names set which we have defined above\n",
    "   #     group_with_name_only = groups[name]   #Here we are extracting the group with one specific name of the bnf_name at the time\n",
    "    #    sum = 0\n",
    "#        for script in group_with_name_only:   #Here we are extracting the scripts associated with the single drug\n",
    " #           sum = sum + script['items']       #Here we are extracting the items key in that script\n",
    "  #      if sum > highest_sum:\n",
    "   #         highest_sum = sum\n",
    "    #        highest_drug = name\n",
    "    #print(highest_drug)\n",
    "    #print(highest_sum)\n",
    "    #return highest_drug, highest_sum\n",
    "\n",
    "#post,sum = cal_sum(bnf_names,groups)"
   ]
  },
  {
   "cell_type": "code",
   "execution_count": 127,
   "metadata": {},
   "outputs": [
    {
     "name": "stdout",
     "output_type": "stream",
     "text": [
      "==================\n",
      "Your score: 1.000\n",
      "==================\n"
     ]
    }
   ],
   "source": [
    "postal_totals = [('B11 4BW', 20673)] * 100\n",
    "\n",
    "grader.score.pw__postal_totals(items_by_post)"
   ]
  },
  {
   "cell_type": "markdown",
   "metadata": {},
   "source": [
    "## Question 4: items_by_region\n",
    "\n",
    "Now we'll combine the techniques we've developed to answer a more complex question. Find the most commonly dispensed item in each postal code, representing the results as a list of tuples (`post_code`, `bnf_name`, amount dispensed as proportion of total). Sort your results ascending alphabetically by post code and take only results from the first 100 post codes.\n",
    "\n",
    "**NOTE:** We'll continue to use the `joined` variable we created before, where we've chosen the alphabetically first postal code for each practice. Additionally, some postal codes will have multiple `'bnf_name'` with the same number of items prescribed for the maximum. In this case, we'll take the alphabetically first `'bnf_name'`.\n",
    "\n",
    "There are several approaches to solve this problem but we will guide you through one of them. Feel free to solve it your own way if it is easier for you to understand and implement. If your kernel keeps on dying, it's probably an indication that you are running out of memory. Consider deleting objects you don't need anymore using the `del` statement and shutdown any other running notebooks. For example:\n",
    "```Python\n",
    "del some_object_not_needed\n",
    "```"
   ]
  },
  {
   "cell_type": "markdown",
   "metadata": {},
   "source": [
    "The first step is to calculate the total items for each `'post_code'` and `'bnf_name'`. Let's call that result `total_items_by_post_bnf`. Consider what is the best data structure(s) to represent `total_items_by_post_bnf`. It should have 141196 `('post_code', 'bnf_name')` groups."
   ]
  },
  {
   "cell_type": "code",
   "execution_count": 193,
   "metadata": {},
   "outputs": [],
   "source": [
    "grouped_by_post_bnf = group_by_field_v2(joined,('bnf_name','post_code'))\n",
    "groups = [(key, cal_sum_v2(val,'items')) for key, val in grouped_by_post_bnf.items()] \n",
    "assert len(groups) == 141196"
   ]
  },
  {
   "cell_type": "code",
   "execution_count": 194,
   "metadata": {},
   "outputs": [
    {
     "data": {
      "text/plain": [
       "[(('Co-Magaldrox_Susp 195mg/220mg/5ml S/F', 'SK11 6JL'), 5),\n",
       " (('Alginate_Raft-Forming Oral Susp S/F', 'SK11 6JL'), 3),\n",
       " (('Sod Algin/Pot Bicarb_Susp S/F', 'SK11 6JL'), 94),\n",
       " (('Sod Alginate/Pot Bicarb_Tab Chble 500mg', 'SK11 6JL'), 9),\n",
       " (('Gaviscon Infant_Sach 2g (Dual Pack) S/F', 'SK11 6JL'), 41)]"
      ]
     },
     "execution_count": 194,
     "metadata": {},
     "output_type": "execute_result"
    }
   ],
   "source": [
    "groups[]\n"
   ]
  },
  {
   "cell_type": "markdown",
   "metadata": {},
   "source": [
    "Next, let's take `total_items_by_post_bnf` and group it by `'post_code'`. In other words, we want a  data structure that maps a `'post_code'` to a list of all records that belong to that `'post_code'`. There should be 118 groups."
   ]
  },
  {
   "cell_type": "code",
   "execution_count": 269,
   "metadata": {},
   "outputs": [
    {
     "data": {
      "text/plain": [
       "[{'bnf_names': 'Co-Magaldrox_Susp 195mg/220mg/5ml S/F',\n",
       "  'post_code': 'SK11 6JL',\n",
       "  'total': 5},\n",
       " {'bnf_names': 'Alginate_Raft-Forming Oral Susp S/F',\n",
       "  'post_code': 'SK11 6JL',\n",
       "  'total': 3},\n",
       " {'bnf_names': 'Sod Algin/Pot Bicarb_Susp S/F',\n",
       "  'post_code': 'SK11 6JL',\n",
       "  'total': 94},\n",
       " {'bnf_names': 'Sod Alginate/Pot Bicarb_Tab Chble 500mg',\n",
       "  'post_code': 'SK11 6JL',\n",
       "  'total': 9},\n",
       " {'bnf_names': 'Gaviscon Infant_Sach 2g (Dual Pack) S/F',\n",
       "  'post_code': 'SK11 6JL',\n",
       "  'total': 41}]"
      ]
     },
     "execution_count": 269,
     "metadata": {},
     "output_type": "execute_result"
    }
   ],
   "source": [
    "total_item_by_bnf_post =  [{'bnf_names' : group[0][0], 'post_code' : group[0][1], 'total':group[1]} for group in groups]\n",
    "\n",
    "total_item_by_bnf_post[:5]"
   ]
  },
  {
   "cell_type": "code",
   "execution_count": 270,
   "metadata": {},
   "outputs": [],
   "source": [
    "grouped_by_post_only = group_by_field_v2(total_item_by_bnf_post, ('post_code',))\n"
   ]
  },
  {
   "cell_type": "code",
   "execution_count": 274,
   "metadata": {},
   "outputs": [
    {
     "name": "stdout",
     "output_type": "stream",
     "text": [
      "[('SK11 6JL', 110071), ('CW5 5NX', 38797), ('CW1 3AW', 64104), ('CW7 1AT', 43164), ('CH65 6TG', 25090)]\n"
     ]
    }
   ],
   "source": [
    "total_items_by_post = [(key[0], cal_sum_v2(val,'total')) for key, val in grouped_by_post_only.items()] # We are calculating total number of items for each post_code.\n",
    "assert len(total_items_by_post) == 118\n",
    "print(total_items_by_post[:5])"
   ]
  },
  {
   "cell_type": "code",
   "execution_count": 208,
   "metadata": {},
   "outputs": [],
   "source": []
  },
  {
   "cell_type": "markdown",
   "metadata": {},
   "source": [
    "Now with `grouped_post_code`, let's iterate over each group and calculate the following fields for each `'post_code'`:\n",
    "1. the sum of total items for all `'bnf_name'`\n",
    "1. the most total items\n",
    "1. the `'bnf_name'` that had the most total items\n",
    "\n",
    "Once again, consider the best data structure(s) to use to represent the result. It may help to write and use a function when developing your solution."
   ]
  },
  {
   "cell_type": "code",
   "execution_count": 279,
   "metadata": {},
   "outputs": [
    {
     "data": {
      "text/plain": [
       "[{'bnf_names': 'Omeprazole_Cap E/C 20mg',\n",
       "  'post_code': 'SK11 6JL',\n",
       "  'total': 3219},\n",
       " {'bnf_names': 'Omeprazole_Cap E/C 20mg',\n",
       "  'post_code': 'CW5 5NX',\n",
       "  'total': 1419},\n",
       " {'bnf_names': 'Omeprazole_Cap E/C 20mg',\n",
       "  'post_code': 'CW1 3AW',\n",
       "  'total': 2364},\n",
       " {'bnf_names': 'Omeprazole_Cap E/C 20mg',\n",
       "  'post_code': 'CW7 1AT',\n",
       "  'total': 1655},\n",
       " {'bnf_names': 'Lansoprazole_Cap 30mg (E/C Gran)',\n",
       "  'post_code': 'CH65 6TG',\n",
       "  'total': 688}]"
      ]
     },
     "execution_count": 279,
     "metadata": {},
     "output_type": "execute_result"
    }
   ],
   "source": [
    "#k = sum(bnf_name['total'] for bnf_name in total_item_by_bnf_post)\n",
    "#print(k)\n",
    "\n",
    "descending_list_of_post = [max(val, key=lambda d: d['total']) for val in grouped_by_post_only.values() if val] # We are using values() method which will give values of the dictionary\n"
   ]
  },
  {
   "cell_type": "code",
   "execution_count": 212,
   "metadata": {},
   "outputs": [
    {
     "name": "stdout",
     "output_type": "stream",
     "text": [
      "3219\n"
     ]
    }
   ],
   "source": [
    "l = max(bnf_name['total'] for bnf_name in total_item_by_bnf_post)\n",
    "print(l)\n",
    "\n"
   ]
  },
  {
   "cell_type": "code",
   "execution_count": 308,
   "metadata": {},
   "outputs": [],
   "source": [
    "def cal_total(x):\n",
    "    post_code = x['post_code']\n",
    "    numer = x['total']\n",
    "    for val in total_items_by_post:\n",
    "        if post_code == val[0]:\n",
    "            denom = val[1]\n",
    "    return numer/denom"
   ]
  },
  {
   "cell_type": "code",
   "execution_count": 309,
   "metadata": {},
   "outputs": [],
   "source": [
    "items_by_region = [(x['post_code'], x['bnf_names'], cal_total(x)) for x in descending_list_of_post]"
   ]
  },
  {
   "cell_type": "code",
   "execution_count": 223,
   "metadata": {},
   "outputs": [
    {
     "name": "stdout",
     "output_type": "stream",
     "text": [
      "Omeprazole_Cap E/C 20mg\n"
     ]
    }
   ],
   "source": [
    "#highest_total = 0\n",
    "#highest_sum = 0\n",
    "#for bnf_name in total_item_by_bnf_post:                    \n",
    " #   bnf_name_only = bnf_name['bnf_names']\n",
    "  #  total=0\n",
    "   # total = bnf_name['total']       \n",
    "#    if total > highest_total:\n",
    " #       highest_total = total\n",
    " #       highest_drug = bnf_name_only\n",
    " #       \n",
    "#print(highest_drug)\n",
    "    "
   ]
  },
  {
   "cell_type": "code",
   "execution_count": 305,
   "metadata": {},
   "outputs": [
    {
     "data": {
      "text/plain": [
       "[('Co-Magaldrox_Susp 195mg/220mg/5ml S/F', 'SK11 6JL', 1.1337729651382954e-06),\n",
       " ('Alginate_Raft-Forming Oral Susp S/F', 'SK11 6JL', 6.802637790829772e-07),\n",
       " ('Sod Algin/Pot Bicarb_Susp S/F', 'SK11 6JL', 2.131493174459995e-05),\n",
       " ('Sod Alginate/Pot Bicarb_Tab Chble 500mg',\n",
       "  'SK11 6JL',\n",
       "  2.040791337248932e-06),\n",
       " ('Gaviscon Infant_Sach 2g (Dual Pack) S/F',\n",
       "  'SK11 6JL',\n",
       "  9.296938314134022e-06)]"
      ]
     },
     "execution_count": 305,
     "metadata": {},
     "output_type": "execute_result"
    }
   ],
   "source": [
    "\n",
    "def prop(t):\n",
    "    j = t['total']/k\n",
    "    return j\n",
    "last = [(t['bnf_names'], t['post_code'], prop(t)) for t in total_item_by_bnf_post]\n",
    "    \n",
    "last[:5]"
   ]
  },
  {
   "cell_type": "code",
   "execution_count": 252,
   "metadata": {},
   "outputs": [
    {
     "name": "stdout",
     "output_type": "stream",
     "text": [
      "bnf_name\t bnf_name_only\t bnf_names\t cal_sum_v2\t d\t data\t defaultdict\t f\t group\t \n",
      "group_by_field_v1\t group_by_field_v2\t grouped_by_post_bnf\t grouped_by_post_only\t grouped_post_code\t groups\t gzip\t highest_drug\t highest_sum\t \n",
      "highest_total\t i\t items_by_post\t joined\t json\t k\t l\t las_func\t math\t \n",
      "max_item\t postal_totals\t practice\t practice_code\t practice_postal\t practices\t practices2\t prop\t script\t \n",
      "scripts\t sns\t total\t total_item_by_bnf_post\t total_items_by_post\t \n"
     ]
    }
   ],
   "source": [
    "who\n"
   ]
  },
  {
   "cell_type": "markdown",
   "metadata": {},
   "source": [
    "Now, we are ready to:\n",
    "1. calculate the ratio (the amount dispensed as proportion of total)\n",
    "1. [sort](https://docs.python.org/3/howto/sorting.html) alphabetically by the post code\n",
    "1. format the answer as a list of tuples\n",
    "1. take only the first 100 tuples\n",
    "1. submit to the grader"
   ]
  },
  {
   "cell_type": "code",
   "execution_count": null,
   "metadata": {},
   "outputs": [],
   "source": [
    "items_by_region = [('B11 4BW', 'Salbutamol_Inha 100mcg (200 D) CFF', 0.0341508247)] * 100"
   ]
  },
  {
   "cell_type": "code",
   "execution_count": 310,
   "metadata": {},
   "outputs": [
    {
     "data": {
      "text/plain": [
       "[('SK11 6JL', 'Omeprazole_Cap E/C 20mg', 0.029244760200234393),\n",
       " ('CW5 5NX', 'Omeprazole_Cap E/C 20mg', 0.036574992911823076),\n",
       " ('CW1 3AW', 'Omeprazole_Cap E/C 20mg', 0.03687757394234369),\n",
       " ('CW7 1AT', 'Omeprazole_Cap E/C 20mg', 0.038342136965990176),\n",
       " ('CH65 6TG', 'Lansoprazole_Cap 30mg (E/C Gran)', 0.027421283379832604)]"
      ]
     },
     "execution_count": 310,
     "metadata": {},
     "output_type": "execute_result"
    }
   ],
   "source": [
    "items_by_region[:5]"
   ]
  },
  {
   "cell_type": "code",
   "execution_count": 312,
   "metadata": {},
   "outputs": [
    {
     "name": "stdout",
     "output_type": "stream",
     "text": [
      "==================\n",
      "Your score: 0.820\n",
      "==================\n"
     ]
    }
   ],
   "source": [
    "grader.score.pw__items_by_region(items_by_region)"
   ]
  },
  {
   "cell_type": "markdown",
   "metadata": {},
   "source": [
    "*Copyright &copy; 2021 WorldQuant University. This content is licensed solely for personal use. Redistribution or publication of this material is strictly prohibited.*"
   ]
  }
 ],
 "metadata": {
  "kernelspec": {
   "display_name": "Python 3",
   "language": "python",
   "name": "python3"
  },
  "language_info": {
   "codemirror_mode": {
    "name": "ipython",
    "version": 3
   },
   "file_extension": ".py",
   "mimetype": "text/x-python",
   "name": "python",
   "nbconvert_exporter": "python",
   "pygments_lexer": "ipython3",
   "version": "3.8.8"
  },
  "nbclean": true
 },
 "nbformat": 4,
 "nbformat_minor": 1
}
